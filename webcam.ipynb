{
 "cells": [
  {
   "cell_type": "markdown",
   "metadata": {},
   "source": [
    "### **Create Virtual Environment and Install Packages**"
   ]
  },
  {
   "cell_type": "code",
   "execution_count": 5,
   "metadata": {},
   "outputs": [],
   "source": [
    "!py -m venv .test_env"
   ]
  },
  {
   "cell_type": "code",
   "execution_count": null,
   "metadata": {},
   "outputs": [],
   "source": [
    "%pip install requirements.txt"
   ]
  },
  {
   "cell_type": "markdown",
   "metadata": {},
   "source": [
    "### **Download YOLOv7 Pose**"
   ]
  },
  {
   "cell_type": "code",
   "execution_count": null,
   "metadata": {},
   "outputs": [],
   "source": [
    "!wget https://github.com/WongKinYiu/yolov7/releases/download/v0.1/yolov7-w6-pose.pt"
   ]
  },
  {
   "cell_type": "markdown",
   "metadata": {},
   "source": [
    "### **Clone Repo For YOLOv7**"
   ]
  },
  {
   "cell_type": "code",
   "execution_count": 17,
   "metadata": {},
   "outputs": [
    {
     "name": "stderr",
     "output_type": "stream",
     "text": [
      "Cloning into 'yolov7'...\n"
     ]
    }
   ],
   "source": [
    "!git clone https://github.com/WongKinYiu/yolov7.git"
   ]
  },
  {
   "cell_type": "markdown",
   "metadata": {},
   "source": [
    "### **Move this Notebook to yolov7 directory (Cloned above)**"
   ]
  },
  {
   "cell_type": "markdown",
   "metadata": {},
   "source": [
    "### **Creating Results Directory**"
   ]
  },
  {
   "cell_type": "code",
   "execution_count": 3,
   "metadata": {},
   "outputs": [],
   "source": [
    "import os\n",
    "os.makedirs('../results', exist_ok=True)"
   ]
  },
  {
   "cell_type": "markdown",
   "metadata": {},
   "source": [
    "### **Algorithm for Human Fall Detection**"
   ]
  },
  {
   "cell_type": "code",
   "execution_count": 4,
   "metadata": {},
   "outputs": [],
   "source": [
    "import cv2\n",
    "import math\n",
    "import torch\n",
    "from torchvision import transforms\n",
    "import numpy as np\n",
    "from utils.datasets import letterbox\n",
    "from utils.general import non_max_suppression_kpt\n",
    "from utils.plots import output_to_keypoint\n",
    "\n",
    "device = torch.device(\"cuda:0\" if torch.cuda.is_available() else \"cpu\")\n",
    "weights = torch.load('../yolov7-w6-pose.pt', map_location=device)\n",
    "model = weights['model']\n",
    "_ = model.float().eval()\n",
    "if torch.cuda.is_available():\n",
    "    model = model.half().to(device)\n",
    "# model = model.to(device)\n",
    "\n",
    "_ = model.eval()\n",
    "\n",
    "# Open a connection to the webcam (usually 0 for the default webcam)\n",
    "cap = cv2.VideoCapture(0)\n",
    "\n",
    "# Check if the webcam is opened successfully\n",
    "if not cap.isOpened():\n",
    "    print(\"Can't open webcam.\")\n",
    "    exit()\n",
    "\n",
    "result_img_num = 1\n",
    "# Loop to continuously capture frames from the webcam\n",
    "while True:\n",
    "    # Read a frame from the webcam\n",
    "    ret, frame = cap.read()\n",
    "\n",
    "    # Convert frame to RGB\n",
    "    orig_image = cv2.cvtColor(frame, cv2.COLOR_BGR2RGB)\n",
    "    frame_width = int(cap.get(3))\n",
    "    image = letterbox(orig_image, (frame_width), stride=64, auto=True)[0]\n",
    "\n",
    "    # Convert image data to device\n",
    "    image = transforms.ToTensor()(image)\n",
    "    image = torch.tensor(np.array([image.numpy()]))\n",
    "    if torch.cuda.is_available():\n",
    "        image = image.half().to(device)\n",
    "    # image = image.to(device)\n",
    "\n",
    "    # Get predictions\n",
    "    with torch.no_grad():\n",
    "        output, _ = model(image)\n",
    "\n",
    "    # Apply non-maximum suppression\n",
    "    output = non_max_suppression_kpt(output, 0.25, 0.65, nc=model.yaml['nc'], nkpt=model.yaml['nkpt'], kpt_label=True)\n",
    "    output = output_to_keypoint(output)\n",
    "    im0 = image[0].permute(1, 2, 0) * 255\n",
    "    im0 = im0.cpu().numpy().astype(np.uint8)\n",
    "\n",
    "    # Reshape image format to BGR\n",
    "    im0 = cv2.cvtColor(im0, cv2.COLOR_RGB2BGR)\n",
    "    for idx in range(output.shape[0]):\n",
    "        xmin, ymin = (output[idx, 2]-output[idx, 4]/2), (output[idx, 3]-output[idx, 5]/2)\n",
    "        xmax, ymax = (output[idx, 2]+output[idx, 4]/2), (output[idx, 3]+output[idx, 5]/2)\n",
    "\n",
    "        left_shoulder_y = output[idx][23]\n",
    "        left_shoulder_x = output[idx][22]\n",
    "        right_shoulder_y = output[idx][26]\n",
    "\n",
    "        left_body_y = output[idx][41]\n",
    "        left_body_x = output[idx][40]\n",
    "        right_body_y = output[idx][44]\n",
    "\n",
    "        len_factor = math.sqrt(((left_shoulder_y - left_body_y)**2 + (left_shoulder_x - left_body_x)**2))\n",
    "\n",
    "        left_foot_y = output[idx][53]\n",
    "        right_foot_y = output[idx][56]\n",
    "\n",
    "        if left_shoulder_y > left_foot_y - len_factor and left_body_y > left_foot_y - (len_factor / 2) and left_shoulder_y > left_body_y - (len_factor / 2):\n",
    "            cv2.rectangle(im0, (int(xmin), int(ymin)), (int(xmax), int(ymax)), color=(0, 0, 255),\n",
    "                          thickness=5, lineType=cv2.LINE_AA)\n",
    "            cv2.putText(im0, 'Human Fell', (11, 100), 0, 1, [0, 0, 2550], thickness=3, lineType=cv2.LINE_AA)\n",
    "            result_filename = f\"../results/human_fell_{result_img_num}.jpg\"\n",
    "            cv2.imwrite(result_filename, im0)\n",
    "            result_img_num += 1\n",
    "\n",
    "    cv2.imshow('WebCam', im0)\n",
    "\n",
    "    # Break the loop if 'q' key is pressed\n",
    "    if cv2.waitKey(1) & 0xFF == ord('q'):\n",
    "        break\n",
    "\n",
    "# Release the webcam and close all windows\n",
    "cap.release()\n",
    "cv2.destroyAllWindows()\n"
   ]
  },
  {
   "cell_type": "code",
   "execution_count": null,
   "metadata": {},
   "outputs": [],
   "source": []
  }
 ],
 "metadata": {
  "kernelspec": {
   "display_name": ".venv",
   "language": "python",
   "name": "python3"
  },
  "language_info": {
   "codemirror_mode": {
    "name": "ipython",
    "version": 3
   },
   "file_extension": ".py",
   "mimetype": "text/x-python",
   "name": "python",
   "nbconvert_exporter": "python",
   "pygments_lexer": "ipython3",
   "version": "3.11.2"
  }
 },
 "nbformat": 4,
 "nbformat_minor": 2
}
